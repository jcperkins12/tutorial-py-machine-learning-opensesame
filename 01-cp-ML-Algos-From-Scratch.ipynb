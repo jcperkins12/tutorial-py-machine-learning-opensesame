{
 "cells": [
  {
   "cell_type": "markdown",
   "metadata": {},
   "source": [
    "# Implementing Perceptron/Adaline ML Algorithms in Python\n",
    "\n",
    "Code following along with the opensesame turorial [python machine learning course](https://player.opensesame.com/coursecontent/e0574515-e184-9194-31e9-355866e13f22/232590/00000000-0000-0000-0000-000000000000/62D4A280;de06e6f7424c2da8eefe20a3a55d1d5039561b361b5dd60e332433627667306c/scormcontent/index.html#/)."
   ]
  },
  {
   "cell_type": "code",
   "execution_count": 1,
   "metadata": {},
   "outputs": [],
   "source": [
    "%load_ext lab_black"
   ]
  },
  {
   "cell_type": "code",
   "execution_count": 2,
   "metadata": {},
   "outputs": [],
   "source": [
    "import numpy as np\n",
    "from numpy.random import seed\n",
    "import pandas as pd\n",
    "import matplotlib.pyplot as plt\n",
    "from matplotlib import rcParams\n",
    "from matplotlib.colors import ListedColormap\n",
    "\n",
    "# set the plot figure size\n",
    "rcParams[\"figure.figsize\"] = 10, 5\n",
    "%matplotlib inline"
   ]
  },
  {
   "cell_type": "markdown",
   "metadata": {},
   "source": [
    "## The Iris Dataset"
   ]
  },
  {
   "cell_type": "code",
   "execution_count": 3,
   "metadata": {},
   "outputs": [],
   "source": [
    "# load the iris dataset\n",
    "csv_name = \"https://archive.ics.uci.edu/ml/machine-learning-databases/iris/iris.data\"\n",
    "header = None\n",
    "\n",
    "# load the data into a pandas datafraem\n",
    "df = pd.read_csv(csv_name, header=header)"
   ]
  },
  {
   "cell_type": "code",
   "execution_count": 4,
   "metadata": {},
   "outputs": [
    {
     "data": {
      "text/html": [
       "<div>\n",
       "<style scoped>\n",
       "    .dataframe tbody tr th:only-of-type {\n",
       "        vertical-align: middle;\n",
       "    }\n",
       "\n",
       "    .dataframe tbody tr th {\n",
       "        vertical-align: top;\n",
       "    }\n",
       "\n",
       "    .dataframe thead th {\n",
       "        text-align: right;\n",
       "    }\n",
       "</style>\n",
       "<table border=\"1\" class=\"dataframe\">\n",
       "  <thead>\n",
       "    <tr style=\"text-align: right;\">\n",
       "      <th></th>\n",
       "      <th>0</th>\n",
       "      <th>1</th>\n",
       "      <th>2</th>\n",
       "      <th>3</th>\n",
       "      <th>4</th>\n",
       "    </tr>\n",
       "  </thead>\n",
       "  <tbody>\n",
       "    <tr>\n",
       "      <th>0</th>\n",
       "      <td>5.1</td>\n",
       "      <td>3.5</td>\n",
       "      <td>1.4</td>\n",
       "      <td>0.2</td>\n",
       "      <td>Iris-setosa</td>\n",
       "    </tr>\n",
       "    <tr>\n",
       "      <th>1</th>\n",
       "      <td>4.9</td>\n",
       "      <td>3.0</td>\n",
       "      <td>1.4</td>\n",
       "      <td>0.2</td>\n",
       "      <td>Iris-setosa</td>\n",
       "    </tr>\n",
       "    <tr>\n",
       "      <th>2</th>\n",
       "      <td>4.7</td>\n",
       "      <td>3.2</td>\n",
       "      <td>1.3</td>\n",
       "      <td>0.2</td>\n",
       "      <td>Iris-setosa</td>\n",
       "    </tr>\n",
       "    <tr>\n",
       "      <th>3</th>\n",
       "      <td>4.6</td>\n",
       "      <td>3.1</td>\n",
       "      <td>1.5</td>\n",
       "      <td>0.2</td>\n",
       "      <td>Iris-setosa</td>\n",
       "    </tr>\n",
       "    <tr>\n",
       "      <th>4</th>\n",
       "      <td>5.0</td>\n",
       "      <td>3.6</td>\n",
       "      <td>1.4</td>\n",
       "      <td>0.2</td>\n",
       "      <td>Iris-setosa</td>\n",
       "    </tr>\n",
       "  </tbody>\n",
       "</table>\n",
       "</div>"
      ],
      "text/plain": [
       "     0    1    2    3            4\n",
       "0  5.1  3.5  1.4  0.2  Iris-setosa\n",
       "1  4.9  3.0  1.4  0.2  Iris-setosa\n",
       "2  4.7  3.2  1.3  0.2  Iris-setosa\n",
       "3  4.6  3.1  1.5  0.2  Iris-setosa\n",
       "4  5.0  3.6  1.4  0.2  Iris-setosa"
      ]
     },
     "execution_count": 4,
     "metadata": {},
     "output_type": "execute_result"
    }
   ],
   "source": [
    "df.head()"
   ]
  },
  {
   "cell_type": "markdown",
   "metadata": {},
   "source": [
    "extract the first 100 class labels, corresponding to the 50 Iris-setosa and 50\n",
    "Iris-versicolor flowers\n"
   ]
  },
  {
   "cell_type": "code",
   "execution_count": 5,
   "metadata": {},
   "outputs": [],
   "source": [
    "y = df.iloc[0:100, 4].values\n",
    "\n",
    "# np.where(condition[, x, y]) <<--- function signature\n",
    "negative_class = -1\n",
    "positive_class = 1\n",
    "condition = y == \"Iris-setosa\"\n",
    "y = np.where(condition, negative_class, positive_class)\n",
    "\n",
    "X = df.iloc[0:100, [0, 2]].values"
   ]
  },
  {
   "cell_type": "markdown",
   "metadata": {},
   "source": [
    "lets visualize our feature matrix, 'X', using a 2d scatter plot\n"
   ]
  },
  {
   "cell_type": "code",
   "execution_count": 6,
   "metadata": {},
   "outputs": [
    {
     "data": {
      "text/plain": [
       "<matplotlib.legend.Legend at 0x22e12739d50>"
      ]
     },
     "execution_count": 6,
     "metadata": {},
     "output_type": "execute_result"
    },
    {
     "data": {
      "image/png": "[encoded data removed]",
      "text/plain": [
       "<Figure size 432x288 with 1 Axes>"
      ]
     },
     "metadata": {
      "needs_background": "light"
     },
     "output_type": "display_data"
    }
   ],
   "source": [
    "# setosa plot\n",
    "sepal_length = X[0:50, 0]  # sepal length feature (first 50 samples)\n",
    "petal_length = X[0:50, 1]  # petal length feature (first 50 samples)\n",
    "color = \"red\"\n",
    "marker = \"o\"\n",
    "label = \"setosa\"\n",
    "plt.scatter(x=sepal_length, y=petal_length, color=color, marker=marker, label=label)\n",
    "\n",
    "# versicolor plot\n",
    "petal_length = X[50:100, 0]  # petal length feature (next 50 samples)\n",
    "sepal_length = X[50:100, 1]  # sepal length feature (next 50 samples)\n",
    "color = \"blue\"\n",
    "marker = \"x\"\n",
    "label = \"versicolor\"\n",
    "plt.scatter(x=sepal_length, y=petal_length, color=color, marker=marker, label=label)\n",
    "\n",
    "# label the axes\n",
    "plt.xlabel(\"sepal length (cm)\")\n",
    "plt.ylabel(\"sepal length (cm)\")\n",
    "\n",
    "# add a legend\n",
    "location = \"upper left\"\n",
    "plt.legend(loc=location)"
   ]
  },
  {
   "cell_type": "markdown",
   "metadata": {},
   "source": [
    "## Implementing a perceptron algorithm in python"
   ]
  },
  {
   "cell_type": "code",
   "execution_count": 8,
   "metadata": {},
   "outputs": [],
   "source": [
    "class Perceptron(object):\n",
    "    \"\"\"Perceptron classifier.\n",
    "\n",
    "    Parameters\n",
    "    -----------\n",
    "    eta :  float\n",
    "        Learning rate (between 0.0 and 1.0)\n",
    "    n_iter : int\n",
    "        Passes (epochs) over the training set.add\n",
    "\n",
    "    Atrributes\n",
    "    -----------\n",
    "    w_: 1d-array\n",
    "        weights afer fitting.\n",
    "    errors_ : list\n",
    "        Number of misclassifications in every epoch.\n",
    "\n",
    "    \"\"\"\n",
    "\n",
    "    def __init__(self, eta=0.1, n_iter=10):\n",
    "        self.eta = eta\n",
    "        self.n_iter = n_iter\n",
    "\n",
    "    def fit(self, X, y):\n",
    "        \"\"\"Fit method for training data.\n",
    "\n",
    "        Parameters\n",
    "        -----------\n",
    "        X : {array-like}, shape = [n_samples, n_features]\n",
    "            Training vectors, where 'n_samples' is the number\n",
    "            of sampls and 'n_features' is the number of\n",
    "            features.\n",
    "        y : {array_like}, shape = [n_samples]\n",
    "            Target values\n",
    "\n",
    "        Returns\n",
    "        --------\n",
    "        self : object\n",
    "\n",
    "        \"\"\"\n",
    "        self.w_ = np.zeros(1 + X.shape[1])\n",
    "        self.errors_ = []\n",
    "\n",
    "        for _ in range(self.n_iter):\n",
    "            errors = 0\n",
    "            for xi, target in zip(X, y):\n",
    "                update = self.eta * (target - self.predict(xi))\n",
    "                self.w_[1:] += update * xi\n",
    "                self.w_[0] += update\n",
    "                errors += int(update != 0.0)\n",
    "            self.errors_.append(errors)\n",
    "        return self\n",
    "\n",
    "    def net_input(self, X):\n",
    "        \"\"\"Calculate the net input.\"\"\"\n",
    "        return np.dot(X, self.w_[1:]) + self.w_[0]\n",
    "\n",
    "    def predict(self, X):\n",
    "        \"\"\"Rturn class label after the unit step.\"\"\"\n",
    "        return np.where(self.net_input(X) >= 0.0, 1, -1)"
   ]
  },
  {
   "cell_type": "markdown",
   "metadata": {},
   "source": [
    "### Train our perceptron on the iris dataset"
   ]
  },
  {
   "cell_type": "code",
   "execution_count": 9,
   "metadata": {},
   "outputs": [
    {
     "data": {
      "text/plain": [
       "<__main__.Perceptron at 0x22e14074a30>"
      ]
     },
     "execution_count": 9,
     "metadata": {},
     "output_type": "execute_result"
    }
   ],
   "source": [
    "# instantiate a perceptron object\n",
    "eta = 0.1\n",
    "n_iter = 10\n",
    "ppn = Perceptron(eta=eta, n_iter=n_iter)\n",
    "\n",
    "\n",
    "# fit the perceptron instance to our training data\n",
    "ppn.fit(X, y)"
   ]
  },
  {
   "cell_type": "markdown",
   "metadata": {},
   "source": [
    "### Evaluate the learning process "
   ]
  },
  {
   "cell_type": "code",
   "execution_count": 10,
   "metadata": {},
   "outputs": [
    {
     "data": {
      "text/plain": [
       "Text(0, 0.5, 'number of misclassifications')"
      ]
     },
     "execution_count": 10,
     "metadata": {},
     "output_type": "execute_result"
    },
    {
     "data": {
      "image/png": "[encoded data removed]",
      "text/plain": [
       "<Figure size 432x288 with 1 Axes>"
      ]
     },
     "metadata": {
      "needs_background": "light"
     },
     "output_type": "display_data"
    }
   ],
   "source": [
    "# lets plot our misclassification error\n",
    "epochs = range(1, len(ppn.errors_) + 1)\n",
    "misclassification = ppn.errors_\n",
    "plt.plot(epochs, misclassification, marker=\"o\")\n",
    "# axis labels\n",
    "plt.xlabel(\"epochs\")\n",
    "plt.ylabel(\"number of misclassifications\")"
   ]
  },
  {
   "cell_type": "markdown",
   "metadata": {},
   "source": [
    "### Create a convenience function to visualize the dcision regions"
   ]
  },
  {
   "cell_type": "code",
   "execution_count": 11,
   "metadata": {},
   "outputs": [],
   "source": [
    "def plot_decision_regions(X, y, classifier, resolution=0.2):\n",
    "    \"\"\"Convenience function for visualizing decision boundaries\"\"\"\n",
    "    # setup marker genearot and clolr map\n",
    "    # this can handle multi-class plotting\n",
    "    markers = (\"s\", \"x\", \"o\", \"^\", \"v\")\n",
    "    colors = (\"red\", \"blue\", \"lightgreen\", \"gray\", \"cyan\")\n",
    "    cmap = ListedColormap(colors[: len(np.unique(y))])\n",
    "\n",
    "    # plot the decision surface\n",
    "    x1_min, x1_max = X[:, 0].min(), X[:, 0].max()\n",
    "    x2_min, x2_max = X[:, 1].min(), X[:, 1].max()\n",
    "    xx1, xx2 = np.meshgrid(\n",
    "        np.arange(x1_min, x1_max, resolution),\n",
    "        np.arange(x2_min, x2_max, resolution),\n",
    "    )\n",
    "\n",
    "    Z = classifier.predict(np.array([xx1.ravel(), xx2.ravel()]).T)\n",
    "\n",
    "    Z = Z.reshape(xx1.shape)\n",
    "    plt.figure()\n",
    "    plt.contourf(xx1, xx2, Z, alpha=0.4, cmap=cmap)\n",
    "\n",
    "    plt.xlim(xx1.min(), xx1.max())\n",
    "    plt.ylim(xx2.min(), xx2.max())\n",
    "\n",
    "    # plot the class samples\n",
    "    for idx, cl in enumerate(np.unique(y)):\n",
    "        plt.scatter(\n",
    "            x=X[y == cl, 0],\n",
    "            y=X[y == cl, 1],\n",
    "            alpha=0.8,\n",
    "            color=cmap(idx),\n",
    "            marker=markers[idx],\n",
    "            label=cl,\n",
    "        )"
   ]
  },
  {
   "cell_type": "code",
   "execution_count": 12,
   "metadata": {},
   "outputs": [
    {
     "data": {
      "text/plain": [
       "<matplotlib.legend.Legend at 0x22e140f4df0>"
      ]
     },
     "execution_count": 12,
     "metadata": {},
     "output_type": "execute_result"
    },
    {
     "data": {
      "image/png": "[encoded data removed]",
      "text/plain": [
       "<Figure size 432x288 with 1 Axes>"
      ]
     },
     "metadata": {
      "needs_background": "light"
     },
     "output_type": "display_data"
    }
   ],
   "source": [
    "# try it out\n",
    "X = X\n",
    "y = y\n",
    "classifier = ppn\n",
    "plot_decision_regions(X=X, y=y, classifier=classifier)\n",
    "\n",
    "# add axis labels and a legend\n",
    "plt.xlabel(\"sepal lengh [cm]\")\n",
    "plt.ylabel(\"petal lengh [cm]\")\n",
    "\n",
    "plt.legend(loc=\"upper left\")"
   ]
  },
  {
   "cell_type": "markdown",
   "metadata": {},
   "source": [
    "## Implementing the adaptive linear neuron algorithm (adaline) in python"
   ]
  },
  {
   "cell_type": "code",
   "execution_count": 13,
   "metadata": {},
   "outputs": [],
   "source": [
    "class AdalineGd(object):\n",
    "    \"\"\"ADAptive LInear NEuron Classifier.\n",
    "\n",
    "    Parameters\n",
    "    -----------\n",
    "\n",
    "    eta : float\n",
    "        Learning rate (between 0.0 and 1.0)\n",
    "    n_iter : (int)\n",
    "        Passes (epochs) over the training set.\n",
    "\n",
    "    Atrributes\n",
    "    -----------\n",
    "    w_: 1d-array\n",
    "        weights afer fitting.\n",
    "    errors_ : list\n",
    "        Number of misclassifications in every epoch.\n",
    "\n",
    "    \"\"\"\n",
    "\n",
    "    def __init__(self, eta=0.1, n_iter=10):\n",
    "        self.eta = eta\n",
    "        self.n_iter = n_iter\n",
    "\n",
    "    def fit(self, X, y):\n",
    "        \"\"\"Fit method for training data.\n",
    "\n",
    "        Parameters\n",
    "        -----------\n",
    "        X : {array-like}, shape = [n_samples, n_features]\n",
    "            Training vectors, where 'n_samples' is the number\n",
    "            of sampls and 'n_features' is the number of features.\n",
    "        y : {array_like}, shape = [n_samples]\n",
    "            Target values\n",
    "\n",
    "        Returns\n",
    "        --------\n",
    "        self : object\n",
    "\n",
    "        \"\"\"\n",
    "        self.w_ = np.zeros(1 + X.shape[1])\n",
    "        self.cost_ = []\n",
    "\n",
    "        # use batch gradient descent instead of incremental uipdating like Perceptron\n",
    "        for i in range(self.n_iter):\n",
    "            output = self.net_input(X)\n",
    "            errors = y - output\n",
    "            self.w_[1:] += self.eta * X.T.dot(errors)\n",
    "            self.w_[0] += self.eta * errors.sum()\n",
    "            cost = (errors * errors).sum() / 2.0\n",
    "            self.cost_.append(cost)\n",
    "\n",
    "        return self\n",
    "\n",
    "    def net_input(self, X):\n",
    "        \"\"\"Calculate the net input.\"\"\"\n",
    "        return np.dot(X, self.w_[1:]) + self.w_[0]\n",
    "\n",
    "    def activation(self, X):\n",
    "        \"\"\"Compute linear activation.\"\"\"\n",
    "        return self.net_input(X)\n",
    "\n",
    "    def predict(self, X):\n",
    "        \"\"\"Rturn class label after the unit step.\"\"\"\n",
    "        return np.where(self.activation(X) >= 0.0, 1, -1)"
   ]
  },
  {
   "cell_type": "markdown",
   "metadata": {},
   "source": [
    "### Choose a learning rate"
   ]
  },
  {
   "cell_type": "markdown",
   "metadata": {},
   "source": [
    "Choosing a learning rate can take experimentation \n",
    "\n",
    "Let's plot the difference between two learning rates"
   ]
  },
  {
   "cell_type": "code",
   "execution_count": 14,
   "metadata": {},
   "outputs": [
    {
     "data": {
      "text/plain": [
       "Text(0.5, 1.0, 'Adaline - Learning rate 0.0001')"
      ]
     },
     "execution_count": 14,
     "metadata": {},
     "output_type": "execute_result"
    },
    {
     "data": {
      "image/png": "[encoded data removed]",
      "text/plain": [
       "<Figure size 432x288 with 2 Axes>"
      ]
     },
     "metadata": {
      "needs_background": "light"
     },
     "output_type": "display_data"
    }
   ],
   "source": [
    "nrows = 1\n",
    "ncols = 2\n",
    "fig, ax = plt.subplots(nrows=nrows, ncols=ncols)\n",
    "\n",
    "# use the first learning rate to fit the training data\n",
    "n_iter = 10\n",
    "eta = 0.01\n",
    "\n",
    "ada1 = AdalineGd(n_iter=n_iter, eta=eta)\n",
    "\n",
    "# fit the model\n",
    "ada1.fit(X, y)\n",
    "\n",
    "epochs = range(1, len(ada1.cost_) + 1)\n",
    "misclassifications = np.log(ada1.cost_)\n",
    "marker = \"o\"\n",
    "\n",
    "# plot the first learning rate\n",
    "ax[0].plot(epochs, misclassifications, marker=marker)\n",
    "\n",
    "# set the labels and title\n",
    "ax[0].set_xlabel(\"Epochs\")\n",
    "ax[0].set_ylabel(\"log(Sum-squared-error)\")\n",
    "ax[0].set_title(f\"Adaline - Learning rate {eta}\")\n",
    "\n",
    "\n",
    "# use the second learning rate to fit the training data\n",
    "n_iter = 10\n",
    "eta = 0.0001\n",
    "ada2 = AdalineGd(n_iter=n_iter, eta=eta)\n",
    "\n",
    "# fit the model\n",
    "ada2.fit(X, y)\n",
    "\n",
    "epochs = range(1, len(ada2.cost_) + 1)\n",
    "misclassifications = np.log(ada2.cost_)\n",
    "marker = \"o\"\n",
    "\n",
    "# plot the first learning rate\n",
    "ax[1].plot(epochs, misclassifications, marker=marker)\n",
    "\n",
    "# set the labels and title\n",
    "ax[1].set_xlabel(\"Epochs\")\n",
    "ax[1].set_ylabel(\"log(Sum-squared-error)\")\n",
    "ax[1].set_title(f\"Adaline - Learning rate {eta}\")"
   ]
  },
  {
   "cell_type": "markdown",
   "metadata": {},
   "source": [
    "### feature standardization to improve algorithm performance"
   ]
  },
  {
   "cell_type": "code",
   "execution_count": 15,
   "metadata": {},
   "outputs": [],
   "source": [
    "X_std = np.copy(X)\n",
    "X_std[:, 0] = (X_std[:, 0] - X_std[:, 0].mean()) / X_std[:, 0].std()\n",
    "X_std[:, 1] = (X_std[:, 1] - X_std[:, 1].mean()) / X_std[:, 1].std()"
   ]
  },
  {
   "cell_type": "code",
   "execution_count": 16,
   "metadata": {},
   "outputs": [
    {
     "data": {
      "image/png": "[encoded data removed]",
      "text/plain": [
       "<Figure size 432x288 with 1 Axes>"
      ]
     },
     "metadata": {
      "needs_background": "light"
     },
     "output_type": "display_data"
    },
    {
     "data": {
      "text/plain": [
       "Text(0.5, 1.0, 'Adaline - Learning rate 0.01')"
      ]
     },
     "execution_count": 16,
     "metadata": {},
     "output_type": "execute_result"
    },
    {
     "data": {
      "image/png": "[encoded data removed]",
      "text/plain": [
       "<Figure size 432x288 with 1 Axes>"
      ]
     },
     "metadata": {
      "needs_background": "light"
     },
     "output_type": "display_data"
    }
   ],
   "source": [
    "# now we'll traing the adaline again on the standardized features and look for improvements\n",
    "n_iter = 15\n",
    "eta = 0.01\n",
    "\n",
    "ada = AdalineGd(n_iter=n_iter, eta=eta)\n",
    "\n",
    "# train the model\n",
    "ada.fit(X_std, y)\n",
    "\n",
    "# plot the decision regions\n",
    "classifier = ada\n",
    "plot_decision_regions(X_std, y, classifier=classifier)\n",
    "\n",
    "plt.title(\"Adaline - Gradient Descent\")\n",
    "plt.xlabel(\"sepal length [standardized]\")\n",
    "plt.xlabel(\"petal length [standardized]\")\n",
    "plt.show()\n",
    "\n",
    "epochs = range(1, len(ada.cost_) + 1)\n",
    "misclassifications = ada.cost_\n",
    "marker = \"o\"\n",
    "\n",
    "# plot the first learning rate\n",
    "plt.plot(epochs, misclassifications, marker=marker)\n",
    "\n",
    "# set the labels and title\n",
    "plt.xlabel(\"Epochs\")\n",
    "plt.ylabel(\"Sum-squared-error\")\n",
    "plt.title(f\"Adaline - Learning rate {eta}\")"
   ]
  },
  {
   "cell_type": "markdown",
   "metadata": {},
   "source": [
    "## adaline with stochastic gardient descent"
   ]
  },
  {
   "cell_type": "code",
   "execution_count": 17,
   "metadata": {},
   "outputs": [],
   "source": [
    "class AdalineSGD(object):\n",
    "    \"\"\"ADAptive LInear NEuron Classifier.\n",
    "\n",
    "    Parameters\n",
    "    -----------\n",
    "    eta : float\n",
    "        Learning rate (between 0.0 and 1.0)\n",
    "    n_iter : (int)\n",
    "        Passes (epochs) over the training set.\n",
    "\n",
    "    Atrributes\n",
    "    -----------\n",
    "    w_: 1d-array\n",
    "        weights afer fitting.\n",
    "    errors_ : list\n",
    "        Number of misclassifications in every epoch.\n",
    "    shuffle : bool (default: True)\n",
    "        Shuffles training data every epoch if 'True' to prevent cycles.\n",
    "    random_state : int (default: ?None)\n",
    "        Set random state for shuffling and initializing weights.\n",
    "\n",
    "    \"\"\"\n",
    "\n",
    "    def __init__(self, eta=0.1, n_iter=10, shuffle=True, random_state=None):\n",
    "        self.eta = eta\n",
    "        self.n_iter = n_iter\n",
    "        self.w_initialized = False\n",
    "        self.shuffle = shuffle\n",
    "        # 'random_state' allows us to make results re-producable from run to run\n",
    "        if random_state:\n",
    "            seed(random_state)\n",
    "\n",
    "    def fit(self, X, y):\n",
    "        \"\"\"Fit method for training data.\n",
    "\n",
    "        Parameters\n",
    "        -----------\n",
    "        X : {array-like}, shape = [n_samples, n_features]\n",
    "            Training vectors, where 'n_samples' is the number\n",
    "            of sampls and 'n_features' is the number of features.\n",
    "        y : {array_like}, shape = [n_samples]\n",
    "            Target values\n",
    "\n",
    "        Returns\n",
    "        --------\n",
    "        self : object\n",
    "\n",
    "        \"\"\"\n",
    "        self._initialize_weights(X.shape[1])\n",
    "        self.cost_ = []\n",
    "        # we now update the weights aferter each training sample\n",
    "        # self.w_ = np.zeros(1 + X.shape[1])\n",
    "        # self.cost_ = []\n",
    "\n",
    "        # use batch gradient descent instead of incremental uipdating like Perceptron\n",
    "        for i in range(self.n_iter):\n",
    "            if self.shuffle:\n",
    "                X, y = self._shuffle(X, y)\n",
    "            cost = []\n",
    "            for xi, target in zip(X, y):\n",
    "                cost.append(self._update_weights(xi, target))\n",
    "            avg_cost = sum(cost) / len(y)\n",
    "            self.cost_.append(avg_cost)\n",
    "\n",
    "        return self\n",
    "\n",
    "    def partial_fit(self, X, y):\n",
    "        \"\"\"Fit training data without re-initalizing the weights.\"\"\"\n",
    "        # this new method alllows us to use the adaline for online learning\n",
    "        # since weights are not re-initialized\n",
    "        if not self.w_initialized:\n",
    "            self._initialize_weights(X.shape[1])\n",
    "        if y.ravel().shape[0] > 1:\n",
    "            for xi, target in zip(X, y):\n",
    "                self._update_weights(xi, target)\n",
    "        else:\n",
    "            self._update_weights(X, y)\n",
    "\n",
    "        return self\n",
    "\n",
    "    def _shuffle(self, X, y):\n",
    "        \"\"\"Shuffle training data.\"\"\"\n",
    "        # use this method to shuffle the training data before each epoch\n",
    "        r = np.random.permutation(len(y))\n",
    "        return X[r], y[r]\n",
    "\n",
    "    def _initialize_weights(self, m):\n",
    "        \"\"\"Initialize weights to zeros.\"\"\"\n",
    "        self.w_ = np.zeros(1 + m)\n",
    "        self.w_initialized = True\n",
    "        return self\n",
    "\n",
    "    def _update_weights(self, xi, target):\n",
    "        \"\"\"Apply Adaline learning rule to update the weights.\"\"\"\n",
    "        output = self.net_input(xi)\n",
    "        error = target - output\n",
    "\n",
    "        self.w_[1:] += self.eta * xi.dot(error)\n",
    "        self.w_[0] += self.eta * error\n",
    "        cost = 0.5 * error * error\n",
    "        return cost\n",
    "\n",
    "    def net_input(self, X):\n",
    "        \"\"\"Calculate the net input.\"\"\"\n",
    "        return np.dot(X, self.w_[1:]) + self.w_[0]\n",
    "\n",
    "    def activation(self, X):\n",
    "        \"\"\"Compute linear activation.\"\"\"\n",
    "        return self.net_input(X)\n",
    "\n",
    "    def predict(self, X):\n",
    "        \"\"\"Rturn class label after the unit step.\"\"\"\n",
    "        return np.where(self.activation(X) >= 0.0, 1, -1)"
   ]
  },
  {
   "cell_type": "markdown",
   "metadata": {},
   "source": [
    "### train the adaine and plot the results"
   ]
  },
  {
   "cell_type": "code",
   "execution_count": 19,
   "metadata": {},
   "outputs": [
    {
     "data": {
      "image/png": "[encoded data removed]",
      "text/plain": [
       "<Figure size 432x288 with 1 Axes>"
      ]
     },
     "metadata": {
      "needs_background": "light"
     },
     "output_type": "display_data"
    },
    {
     "data": {
      "image/png": "[encoded data removed]",
      "text/plain": [
       "<Figure size 432x288 with 1 Axes>"
      ]
     },
     "metadata": {
      "needs_background": "light"
     },
     "output_type": "display_data"
    }
   ],
   "source": [
    "# instantiate the model\n",
    "n_iter = 15\n",
    "eta = 0.01\n",
    "random_state = 1\n",
    "ada = AdalineSGD(n_iter=n_iter, eta=eta, random_state=random_state)\n",
    "\n",
    "# fit the model\n",
    "ada.fit(X_std, y)\n",
    "\n",
    "# plot the decision regions\n",
    "plot_decision_regions(X_std, y, classifier=ada)\n",
    "\n",
    "plt.title(\"Adaline - Schochastic Gradient Descent\")\n",
    "plt.xlabel(\"sepal length [standardized]\")\n",
    "plt.xlabel(\"petal length [standardized]\")\n",
    "plt.legend(loc=\"upper left\")\n",
    "plt.show()\n",
    "\n",
    "# plot the error\n",
    "epochs = range(1, len(ada.cost_) + 1)\n",
    "misclassifications = ada.cost_\n",
    "marker = \"o\"\n",
    "plt.plot(epochs, misclassifications, marker=marker)\n",
    "\n",
    "# set the labels and title\n",
    "plt.xlabel(\"Epochs\")\n",
    "plt.ylabel(\"Average Cost\")\n",
    "plt.title(f\"Adaline Cost w/ Learning rate = {ada.eta}\")\n",
    "plt.show()"
   ]
  },
  {
   "cell_type": "code",
   "execution_count": null,
   "metadata": {},
   "outputs": [],
   "source": []
  }
 ],
 "metadata": {
  "kernelspec": {
   "display_name": "Python 3.10.4 ('Qorvo')",
   "language": "python",
   "name": "python3"
  },
  "language_info": {
   "codemirror_mode": {
    "name": "ipython",
    "version": 3
   },
   "file_extension": ".py",
   "mimetype": "text/x-python",
   "name": "python",
   "nbconvert_exporter": "python",
   "pygments_lexer": "ipython3",
   "version": "3.10.4"
  },
  "orig_nbformat": 4,
  "vscode": {
   "interpreter": {
    "hash": "ebd3a21da2ee8f1fe1599fdf2e35f7c4071447e3d4a8891508bef96c5dfcfda1"
   }
  }
 },
 "nbformat": 4,
 "nbformat_minor": 2
}
